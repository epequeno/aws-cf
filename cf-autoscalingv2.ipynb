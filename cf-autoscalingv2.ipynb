{
 "cells": [
  {
   "cell_type": "markdown",
   "metadata": {},
   "source": [
    "# Cloudformation - autoscalingv2\n",
    "`Status: COMPLETE`\n",
    "\n",
    "Simplified template composed of:\n",
    "- VPC `(10.0.0.0/16)`\n",
    " - IGW with route from `0.0.0.0/0`\n",
    "- 2 Public Subnets\n",
    " - `10.0.1.0/24`\n",
    " - `10.0.1.0/24`\n",
    "- AutoScalingGroup\n",
    " - Min:2, Max:2\n",
    "- Application ELB\n",
    " - Healthchecks\n",
    "\n",
    "Serving a page identifying instanceID over http/80\n",
    "\n",
    "---"
   ]
  },
  {
   "cell_type": "code",
   "execution_count": 1,
   "metadata": {
    "collapsed": true
   },
   "outputs": [],
   "source": [
    "from troposphere import Template, Ref, GetAtt, GetAZs, Base64, Join, FindInMap, Select, Output, Parameter, Tags\n",
    "from troposphere.autoscaling import AutoScalingGroup, LaunchConfiguration\n",
    "from troposphere.autoscaling import Tag as asTag\n",
    "from troposphere.autoscaling import Tags as asTags\n",
    "import troposphere.ec2 as ec2\n",
    "import troposphere.elasticloadbalancingv2 as elb"
   ]
  },
  {
   "cell_type": "code",
   "execution_count": 2,
   "metadata": {
    "collapsed": false
   },
   "outputs": [],
   "source": [
    "resources = set()\n",
    "t = Template()\n",
    "t.add_version('2010-09-09')\n",
    "t.add_description('simple autoscaling, application elb')\n",
    "# common tag to apply to most resources\n",
    "site_tags = Tags(Site='example.com')\n",
    "az1 = Select('0', GetAZs(Ref('AWS::Region')))\n",
    "az2 = Select('1', GetAZs(Ref('AWS::Region')))"
   ]
  },
  {
   "cell_type": "markdown",
   "metadata": {},
   "source": [
    "# Parameters\n",
    "---"
   ]
  },
  {
   "cell_type": "code",
   "execution_count": 3,
   "metadata": {
    "collapsed": false
   },
   "outputs": [],
   "source": [
    "keyname = Parameter('keyname', \n",
    "                    Default='main', \n",
    "                    Description='Key to use for ssh access',\n",
    "                    Type='String')\n",
    "t.add_parameter(keyname);"
   ]
  },
  {
   "cell_type": "markdown",
   "metadata": {},
   "source": [
    "# Maps"
   ]
  },
  {
   "cell_type": "code",
   "execution_count": 4,
   "metadata": {
    "collapsed": true
   },
   "outputs": [],
   "source": [
    "t.add_mapping('RegionMap', { 'us-east-1': {'ami': 'ami-b73b63a0'}\n",
    "                           , 'us-east-2': {'ami': 'ami-58277d3d'}\n",
    "                           , 'us-west-1': {'ami': 'ami-23e8a343'}\n",
    "                           , 'us-west-2': {'ami': 'ami-5ec1673e'}\n",
    "                           });"
   ]
  },
  {
   "cell_type": "markdown",
   "metadata": {},
   "source": [
    "# Resources\n",
    "---"
   ]
  },
  {
   "cell_type": "markdown",
   "metadata": {},
   "source": [
    "## Network"
   ]
  },
  {
   "cell_type": "markdown",
   "metadata": {},
   "source": [
    "### VPC"
   ]
  },
  {
   "cell_type": "code",
   "execution_count": 5,
   "metadata": {
    "collapsed": false
   },
   "outputs": [],
   "source": [
    "vpc = ec2.VPC('exampleVpc', CidrBlock='10.0.0.0/16', Tags=site_tags)\n",
    "igw = ec2.InternetGateway('igw', Tags=site_tags)\n",
    "attach_igw = ec2.VPCGatewayAttachment('attachIgw', InternetGatewayId=Ref(igw), VpcId=Ref(vpc))\n",
    "\n",
    "resources.add(vpc)\n",
    "resources.add(igw)\n",
    "resources.add(attach_igw)"
   ]
  },
  {
   "cell_type": "markdown",
   "metadata": {},
   "source": [
    "### Subnets"
   ]
  },
  {
   "cell_type": "markdown",
   "metadata": {},
   "source": [
    "Two public subnets/AZs for use with application loadbalancer."
   ]
  },
  {
   "cell_type": "code",
   "execution_count": 6,
   "metadata": {
    "collapsed": false
   },
   "outputs": [],
   "source": [
    "public1 = ec2.Subnet('public1',\n",
    "                     AvailabilityZone=az1,\n",
    "                     CidrBlock='10.0.1.0/24',\n",
    "                     VpcId=Ref(vpc),\n",
    "                     Tags=site_tags)\n",
    "public2 = ec2.Subnet('public2',\n",
    "                     AvailabilityZone=az2,\n",
    "                     CidrBlock='10.0.2.0/24',\n",
    "                     VpcId=Ref(vpc),\n",
    "                     Tags=site_tags)\n",
    "resources.add(public1)\n",
    "resources.add(public2)"
   ]
  },
  {
   "cell_type": "markdown",
   "metadata": {},
   "source": [
    "### Security Groups"
   ]
  },
  {
   "cell_type": "code",
   "execution_count": 7,
   "metadata": {
    "collapsed": false
   },
   "outputs": [],
   "source": [
    "allowed_ports = [22, 80]\n",
    "rules = [ec2.SecurityGroupRule(IpProtocol='tcp', CidrIp='0.0.0.0/0', FromPort=p, ToPort=p) for p in allowed_ports]\n",
    "\n",
    "web_dmz_sg = ec2.SecurityGroup('webDmzSg',\n",
    "                               GroupDescription='allow ssh and http traffic',\n",
    "                               SecurityGroupIngress=rules,\n",
    "                               VpcId=Ref(vpc),\n",
    "                               Tags=site_tags)\n",
    "resources.add(web_dmz_sg)"
   ]
  },
  {
   "cell_type": "markdown",
   "metadata": {},
   "source": [
    "### Routes"
   ]
  },
  {
   "cell_type": "code",
   "execution_count": 8,
   "metadata": {
    "collapsed": false
   },
   "outputs": [],
   "source": [
    "route_table = ec2.RouteTable('routeTable', VpcId=Ref(vpc), Tags=site_tags)\n",
    "route_to_igw = ec2.Route('routeToIgw',\n",
    "                         DestinationCidrBlock='0.0.0.0/0',\n",
    "                         RouteTableId=Ref(route_table),\n",
    "                         GatewayId=Ref(igw))\n",
    "associate_route_to_public1 = ec2.SubnetRouteTableAssociation('associateToPublic1', \n",
    "                                                             RouteTableId=Ref(route_table),\n",
    "                                                             SubnetId=Ref(public1))\n",
    "associate_route_to_public2 = ec2.SubnetRouteTableAssociation('associateToPublic2', \n",
    "                                                             RouteTableId=Ref(route_table),\n",
    "                                                             SubnetId=Ref(public2))\n",
    "resources.add(route_table)\n",
    "resources.add(route_to_igw)\n",
    "resources.add(associate_route_to_public1)\n",
    "resources.add(associate_route_to_public2)"
   ]
  },
  {
   "cell_type": "markdown",
   "metadata": {},
   "source": [
    "## LoadBalancing"
   ]
  },
  {
   "cell_type": "code",
   "execution_count": 9,
   "metadata": {
    "collapsed": false
   },
   "outputs": [],
   "source": [
    "web_target_group = elb.TargetGroup('webTargetGroup',\n",
    "                                   Name='webNodes',\n",
    "                                   Port=80,\n",
    "                                   Protocol='HTTP',\n",
    "                                   HealthCheckPath='/',\n",
    "                                   HealthCheckPort='80',\n",
    "                                   HealthCheckProtocol='HTTP',\n",
    "                                   HealthCheckIntervalSeconds=60,\n",
    "                                   HealthCheckTimeoutSeconds=45,\n",
    "                                   HealthyThresholdCount=4,\n",
    "                                   UnhealthyThresholdCount=3,\n",
    "                                   Matcher=elb.Matcher(HttpCode='200'),\n",
    "                                   VpcId=Ref(vpc),\n",
    "                                   Tags=site_tags)\n",
    "\n",
    "loadbalancer = elb.LoadBalancer('webElb',\n",
    "                                Name='webElb',\n",
    "                                Scheme='internet-facing',\n",
    "                                SecurityGroups=[Ref(web_dmz_sg)],\n",
    "                                Subnets=[Ref(public1), Ref(public2)],\n",
    "                                Tags=site_tags)\n",
    "\n",
    "elb_listener = elb.Listener('listen80',\n",
    "                            DefaultActions=[elb.Action(Type='forward', TargetGroupArn=Ref(web_target_group))],\n",
    "                            LoadBalancerArn=Ref(loadbalancer),\n",
    "                            Port=80,\n",
    "                            Protocol='HTTP')\n",
    "\n",
    "\n",
    "\n",
    "resources.add(elb_listener)\n",
    "resources.add(loadbalancer)\n",
    "resources.add(web_target_group)"
   ]
  },
  {
   "cell_type": "markdown",
   "metadata": {},
   "source": [
    "## AutoScaling"
   ]
  },
  {
   "cell_type": "code",
   "execution_count": 10,
   "metadata": {
    "collapsed": true
   },
   "outputs": [],
   "source": [
    "script = \"\"\"\\\n",
    "#!/bin/bash\n",
    "sudo yum update -y\n",
    "sudo yum install httpd -y\n",
    "wget https://raw.githubusercontent.com/epequeno/aws-cf/master/make_page.py\n",
    "sudo python make_page.py\n",
    "sudo service httpd start\n",
    "\"\"\"\n",
    "\n",
    "def make_userdata(text):\n",
    "    return Base64(Join('', text.splitlines(True)))\n",
    "\n",
    "user_data = make_userdata(script)\n",
    "\n",
    "launch_config = LaunchConfiguration('webLaunchConfig',\n",
    "                                    AssociatePublicIpAddress=True,\n",
    "                                    ImageId=FindInMap('RegionMap', Ref('AWS::Region'), 'ami'),\n",
    "                                    InstanceType='t2.micro',\n",
    "                                    KeyName=Ref(keyname),\n",
    "                                    SecurityGroups=[GetAtt(web_dmz_sg, 'GroupId')],\n",
    "                                    UserData=user_data)\n",
    "\n",
    "asg_tag = asTag('Site', 'example.com', True)\n",
    "asg = AutoScalingGroup('webAsg',\n",
    "                       LaunchConfigurationName=Ref(launch_config),\n",
    "                       AvailabilityZones=[az1, az2],\n",
    "                       VPCZoneIdentifier=[Ref(public1), Ref(public2)],\n",
    "                       TargetGroupARNs=[Ref(web_target_group)],\n",
    "                       MinSize=2,\n",
    "                       MaxSize=4,\n",
    "                       Tags=[asg_tag])\n",
    "\n",
    "resources.add(launch_config)\n",
    "resources.add(asg)"
   ]
  },
  {
   "cell_type": "markdown",
   "metadata": {},
   "source": [
    "# Outputs"
   ]
  },
  {
   "cell_type": "code",
   "execution_count": 11,
   "metadata": {
    "collapsed": false
   },
   "outputs": [],
   "source": [
    "elb_dns_name = Output('elbDnsName',\n",
    "                      Description='DNS name for elb',\n",
    "                      Value=GetAtt(loadbalancer, 'DNSName'))\n",
    "t.add_output(elb_dns_name);"
   ]
  },
  {
   "cell_type": "markdown",
   "metadata": {},
   "source": [
    "#  Build\n",
    "---"
   ]
  },
  {
   "cell_type": "code",
   "execution_count": 12,
   "metadata": {
    "collapsed": false
   },
   "outputs": [],
   "source": [
    "for r in resources:\n",
    "    t.add_resource(r)\n",
    "    \n",
    "with open('asgv2.json', 'w') as fd:\n",
    "    fd.write(t.to_json())"
   ]
  },
  {
   "cell_type": "markdown",
   "metadata": {},
   "source": [
    "## Validate"
   ]
  },
  {
   "cell_type": "code",
   "execution_count": 13,
   "metadata": {
    "collapsed": false
   },
   "outputs": [
    {
     "name": "stdout",
     "output_type": "stream",
     "text": [
      "ok\r\n"
     ]
    }
   ],
   "source": [
    "!aws cloudformation validate-template --template-body file://asgv2.json > /dev/null && echo \"ok\""
   ]
  }
 ],
 "metadata": {
  "kernelspec": {
   "display_name": "Python 3",
   "language": "python",
   "name": "python3"
  },
  "language_info": {
   "codemirror_mode": {
    "name": "ipython",
    "version": 3
   },
   "file_extension": ".py",
   "mimetype": "text/x-python",
   "name": "python",
   "nbconvert_exporter": "python",
   "pygments_lexer": "ipython3",
   "version": "3.5.0"
  }
 },
 "nbformat": 4,
 "nbformat_minor": 1
}
