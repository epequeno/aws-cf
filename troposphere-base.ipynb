{
 "cells": [
  {
   "cell_type": "code",
   "execution_count": null,
   "metadata": {
    "collapsed": true
   },
   "outputs": [],
   "source": [
    "from troposphere import Template, Ref, FindInMap, Parameter, GetAtt, Tags, Output\n",
    "import troposphere.ec2 as ec2\n",
    "resources = set()"
   ]
  },
  {
   "cell_type": "code",
   "execution_count": null,
   "metadata": {
    "collapsed": true
   },
   "outputs": [],
   "source": [
    "t = Template()"
   ]
  },
  {
   "cell_type": "markdown",
   "metadata": {},
   "source": [
    "# Mappings"
   ]
  },
  {
   "cell_type": "code",
   "execution_count": null,
   "metadata": {
    "collapsed": true
   },
   "outputs": [],
   "source": [
    "t.add_mapping('RegionMap', { 'us-east-1': {'AMI': 'ami-b73b63a0'}\n",
    "                           , 'us-east-2': {'AMI': 'ami-58277d3d'}\n",
    "                           , 'us-west-1': {'AMI': 'ami-23e8a343'}\n",
    "                           , 'us-west-2': {'AMI': 'ami-5ec1673e'}\n",
    "                           })"
   ]
  },
  {
   "cell_type": "markdown",
   "metadata": {},
   "source": [
    "# Params"
   ]
  },
  {
   "cell_type": "code",
   "execution_count": null,
   "metadata": {
    "collapsed": false
   },
   "outputs": [],
   "source": [
    "keyname_param = Parameter('KeyName',\n",
    "                          Description='Name of existing keypair',\n",
    "                          Type='String')\n",
    "t.add_parameter(keyname_param);"
   ]
  },
  {
   "cell_type": "markdown",
   "metadata": {},
   "source": [
    "# Resources"
   ]
  },
  {
   "cell_type": "code",
   "execution_count": null,
   "metadata": {
    "collapsed": true
   },
   "outputs": [],
   "source": [
    "vpc = ec2.VPC('myVPC', CidrBlock='10.0.0.0/16')\n",
    "resources.add(vpc)"
   ]
  },
  {
   "cell_type": "code",
   "execution_count": null,
   "metadata": {
    "collapsed": false
   },
   "outputs": [],
   "source": [
    "igw = ec2.InternetGateway('myIGW')\n",
    "resources.add(igw)"
   ]
  },
  {
   "cell_type": "code",
   "execution_count": null,
   "metadata": {
    "collapsed": false
   },
   "outputs": [],
   "source": [
    "igw_attachment = ec2.VPCGatewayAttachment('igwAttachment', InternetGatewayId=Ref(igw), VpcId=Ref(vpc))\n",
    "resources.add(igw_attachment)"
   ]
  },
  {
   "cell_type": "code",
   "execution_count": null,
   "metadata": {
    "collapsed": true
   },
   "outputs": [],
   "source": [
    "vpc_route_table = ec2.RouteTable('vpcRouteTable', VpcId=Ref(vpc))\n",
    "resources.add(vpc_route_table)"
   ]
  },
  {
   "cell_type": "code",
   "execution_count": null,
   "metadata": {
    "collapsed": true
   },
   "outputs": [],
   "source": [
    "igw_route = ec2.Route('igwRoute',\n",
    "                      DestinationCidrBlock='0.0.0.0/0',\n",
    "                      GatewayId=Ref(igw),\n",
    "                      RouteTableId=Ref(vpc_route_table),\n",
    "                      DependsOn='myIGW')\n",
    "resources.add(igw_route)"
   ]
  },
  {
   "cell_type": "code",
   "execution_count": null,
   "metadata": {
    "collapsed": true
   },
   "outputs": [],
   "source": [
    "webDMZ = ec2.Subnet('webDMZ', VpcId=Ref(vpc), CidrBlock='10.0.1.0/24', MapPublicIpOnLaunch=True)\n",
    "resources.add(webDMZ)"
   ]
  },
  {
   "cell_type": "code",
   "execution_count": null,
   "metadata": {
    "collapsed": false
   },
   "outputs": [],
   "source": [
    "route_table_association = ec2.SubnetRouteTableAssociation('AssociateTable',\n",
    "                                                          RouteTableId=Ref(vpc_route_table),\n",
    "                                                          SubnetId=Ref(webDMZ))\n",
    "resources.add(route_table_association)"
   ]
  },
  {
   "cell_type": "code",
   "execution_count": null,
   "metadata": {
    "collapsed": false
   },
   "outputs": [],
   "source": [
    "rules = list()\n",
    "ports_to_open = [22, 80, 443]\n",
    "for port in ports_to_open:\n",
    "    rules.append(ec2.SecurityGroupRule(CidrIp='0.0.0.0/0', FromPort=port, ToPort=port, IpProtocol='tcp'))\n",
    "\n",
    "web_sg = ec2.SecurityGroup('webSG', \n",
    "                           VpcId=Ref(vpc), \n",
    "                           GroupDescription='sg to allow web traffic/ssh',\n",
    "                           SecurityGroupIngress=rules)\n",
    "resources.add(web_sg)"
   ]
  },
  {
   "cell_type": "code",
   "execution_count": null,
   "metadata": {
    "collapsed": false
   },
   "outputs": [],
   "source": [
    "web1 = ec2.Instance('web1',\n",
    "                    ImageId=FindInMap('RegionMap', Ref('AWS::Region'), 'AMI'),\n",
    "                    InstanceType='t2.micro',\n",
    "                    SubnetId=Ref(webDMZ),\n",
    "                    SecurityGroupIds=[GetAtt(web_sg, 'GroupId')],\n",
    "                    KeyName=Ref(keyname_param),\n",
    "                    Tags=Tags(Name='web1'))\n",
    "resources.add(web1)"
   ]
  },
  {
   "cell_type": "markdown",
   "metadata": {},
   "source": [
    "# Outputs"
   ]
  },
  {
   "cell_type": "code",
   "execution_count": null,
   "metadata": {
    "collapsed": false
   },
   "outputs": [],
   "source": [
    "t.add_output(Output('PublicIP',\n",
    "                   Description='Web node public IP',\n",
    "                   Value=GetAtt(web1, 'PublicIp')));"
   ]
  },
  {
   "cell_type": "markdown",
   "metadata": {},
   "source": [
    "# Build"
   ]
  },
  {
   "cell_type": "code",
   "execution_count": null,
   "metadata": {
    "collapsed": false
   },
   "outputs": [],
   "source": [
    "for r in resources:\n",
    "    t.add_resource(r)\n",
    "\n",
    "with open('trop.json', 'w') as fd:\n",
    "    fd.write(t.to_json())"
   ]
  },
  {
   "cell_type": "code",
   "execution_count": null,
   "metadata": {
    "collapsed": false
   },
   "outputs": [],
   "source": []
  },
  {
   "cell_type": "code",
   "execution_count": null,
   "metadata": {
    "collapsed": true
   },
   "outputs": [],
   "source": []
  }
 ],
 "metadata": {
  "kernelspec": {
   "display_name": "Python 3",
   "language": "python",
   "name": "python3"
  },
  "language_info": {
   "codemirror_mode": {
    "name": "ipython",
    "version": 3
   },
   "file_extension": ".py",
   "mimetype": "text/x-python",
   "name": "python",
   "nbconvert_exporter": "python",
   "pygments_lexer": "ipython3",
   "version": "3.5.0"
  }
 },
 "nbformat": 4,
 "nbformat_minor": 1
}
