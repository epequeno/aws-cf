{
 "cells": [
  {
   "cell_type": "markdown",
   "metadata": {
    "deletable": true,
    "editable": true
   },
   "source": [
    "# custom monitoring template\n",
    "---\n",
    "By default, Disk usage and memory usage are not monitored by cloudwatch. This uses the scripts provided by AWS to add those features. http://docs.aws.amazon.com/AWSEC2/latest/UserGuide/mon-scripts.html\n",
    "\n",
    "STATUS: INCOMPLETE"
   ]
  },
  {
   "cell_type": "code",
   "execution_count": 2,
   "metadata": {
    "collapsed": true,
    "deletable": true,
    "editable": true
   },
   "outputs": [],
   "source": [
    "from troposphere import Template, Ref, GetAtt, GetAZs, Base64, Join, FindInMap, Select, Output, Parameter, Tags\n",
    "import troposphere.ec2 as ec2"
   ]
  },
  {
   "cell_type": "code",
   "execution_count": 3,
   "metadata": {
    "collapsed": false,
    "deletable": true,
    "editable": true
   },
   "outputs": [],
   "source": [
    "resources = set()\n",
    "t = Template()\n",
    "t.add_version('2010-09-09')\n",
    "t.add_description('Launch an instance with custom monitoring.')\n",
    "\n",
    "# AZ selection\n",
    "az1 = Select('0', GetAZs(''))\n",
    "az2 = Select('1', GetAZs(''))\n",
    "az3 = Select('2', GetAZs(''))"
   ]
  },
  {
   "cell_type": "markdown",
   "metadata": {
    "deletable": true,
    "editable": true
   },
   "source": [
    "# Parameters\n",
    "---"
   ]
  },
  {
   "cell_type": "code",
   "execution_count": 3,
   "metadata": {
    "collapsed": false,
    "deletable": true,
    "editable": true
   },
   "outputs": [],
   "source": [
    "keyname = Parameter('keyname', \n",
    "                    Default='main', \n",
    "                    Description='Key to use for ssh access',\n",
    "                    Type='String')\n",
    "t.add_parameter(keyname);"
   ]
  },
  {
   "cell_type": "markdown",
   "metadata": {
    "deletable": true,
    "editable": true
   },
   "source": [
    "# Maps"
   ]
  },
  {
   "cell_type": "code",
   "execution_count": 4,
   "metadata": {
    "collapsed": false,
    "deletable": true,
    "editable": true
   },
   "outputs": [],
   "source": [
    "# Amazon Linux AMI 2016.09.0 (HVM), SSD Volume Type\n",
    "t.add_mapping('RegionMap', { 'us-east-1':      {'ami': 'ami-b73b63a0'} # N. Virginia\n",
    "                           , 'us-east-2':      {'ami': 'ami-58277d3d'} # Ohio\n",
    "                           , 'us-west-1':      {'ami': 'ami-23e8a343'} # N. California\n",
    "                           , 'us-west-2':      {'ami': 'ami-5ec1673e'} # Oregon\n",
    "                           , 'eu-west-1':      {'ami': 'ami-9398d3e0'} # Ireland\n",
    "                           , 'eu-central-1':   {'ami': 'ami-f9619996'} # Frankfurt\n",
    "                           , 'ap-northeast-1': {'ami': 'ami-0c11b26d'} # Tokyo\n",
    "                           , 'ap-northeast-2': {'ami': 'ami-983ce8f6'} # Seoul\n",
    "                           , 'ap-southeast-1': {'ami': 'ami-b953f2da'} # Singapore\n",
    "                           , 'ap-southeast-2': {'ami': 'ami-db704cb8'} # Sydney\n",
    "                           , 'ap-south-1':     {'ami': 'ami-34b4c05b'} # Mumbai\n",
    "                           , 'sa-east-1':      {'ami': 'ami-97831ffb'} # São Paulo \n",
    "                           });"
   ]
  },
  {
   "cell_type": "markdown",
   "metadata": {
    "deletable": true,
    "editable": true
   },
   "source": [
    "# Resources\n",
    "---"
   ]
  },
  {
   "cell_type": "markdown",
   "metadata": {
    "deletable": true,
    "editable": true
   },
   "source": [
    "## Network"
   ]
  },
  {
   "cell_type": "markdown",
   "metadata": {
    "deletable": true,
    "editable": true
   },
   "source": [
    "### VPC"
   ]
  },
  {
   "cell_type": "code",
   "execution_count": 5,
   "metadata": {
    "collapsed": false,
    "deletable": true,
    "editable": true
   },
   "outputs": [],
   "source": [
    "vpc = ec2.VPC('exampleVpc', CidrBlock='10.0.0.0/16', Tags=rename_me)\n",
    "igw = ec2.InternetGateway('igw', Tags=rename_me)\n",
    "attach_igw = ec2.VPCGatewayAttachment('attachIgw', InternetGatewayId=Ref(igw), VpcId=Ref(vpc))\n",
    "\n",
    "resources.add(vpc)\n",
    "resources.add(igw)\n",
    "resources.add(attach_igw)"
   ]
  },
  {
   "cell_type": "markdown",
   "metadata": {
    "deletable": true,
    "editable": true
   },
   "source": [
    "### Subnets"
   ]
  },
  {
   "cell_type": "code",
   "execution_count": 6,
   "metadata": {
    "collapsed": false,
    "deletable": true,
    "editable": true
   },
   "outputs": [],
   "source": [
    "public1 = ec2.Subnet('public1',\n",
    "                     AvailabilityZone=az1,\n",
    "                     CidrBlock='10.0.1.0/24',\n",
    "                     VpcId=Ref(vpc),\n",
    "                     Tags=rename_me)\n",
    "public2 = ec2.Subnet('public2',\n",
    "                     AvailabilityZone=az2,\n",
    "                     CidrBlock='10.0.2.0/24',\n",
    "                     VpcId=Ref(vpc),\n",
    "                     Tags=rename_me)\n",
    "public3 = ec2.Subnet('public3',\n",
    "                     AvailabilityZone=az3,\n",
    "                     CidrBlock='10.0.3.0/24',\n",
    "                     VpcId=Ref(vpc),\n",
    "                     Tags=rename_me)\n",
    "resources.add(public1)\n",
    "resources.add(public2)\n",
    "resources.add(public3)"
   ]
  },
  {
   "cell_type": "markdown",
   "metadata": {
    "deletable": true,
    "editable": true
   },
   "source": [
    "### Security Groups"
   ]
  },
  {
   "cell_type": "code",
   "execution_count": 7,
   "metadata": {
    "collapsed": false,
    "deletable": true,
    "editable": true
   },
   "outputs": [],
   "source": [
    "allowed_ports = [80]\n",
    "rules = [ec2.SecurityGroupRule(IpProtocol='tcp', CidrIp='0.0.0.0/0', FromPort=p, ToPort=p) for p in allowed_ports]\n",
    "\n",
    "web_dmz_sg = ec2.SecurityGroup('webDmzSg',\n",
    "                               GroupDescription='allow ssh and http traffic',\n",
    "                               SecurityGroupIngress=rules,\n",
    "                               VpcId=Ref(vpc),\n",
    "                               Tags=rename_me)\n",
    "resources.add(web_dmz_sg)"
   ]
  },
  {
   "cell_type": "markdown",
   "metadata": {
    "deletable": true,
    "editable": true
   },
   "source": [
    "### Routes"
   ]
  },
  {
   "cell_type": "code",
   "execution_count": 8,
   "metadata": {
    "collapsed": false,
    "deletable": true,
    "editable": true
   },
   "outputs": [],
   "source": [
    "route_table = ec2.RouteTable('routeTable', VpcId=Ref(vpc), Tags=rename_me)\n",
    "route_to_igw = ec2.Route('routeToIgw',\n",
    "                         DestinationCidrBlock='0.0.0.0/0',\n",
    "                         RouteTableId=Ref(route_table),\n",
    "                         GatewayId=Ref(igw))\n",
    "associate_route_to_public1 = ec2.SubnetRouteTableAssociation('associateToPublic1', \n",
    "                                                             RouteTableId=Ref(route_table),\n",
    "                                                             SubnetId=Ref(public1))\n",
    "associate_route_to_public2 = ec2.SubnetRouteTableAssociation('associateToPublic2', \n",
    "                                                             RouteTableId=Ref(route_table),\n",
    "                                                             SubnetId=Ref(public2))\n",
    "associate_route_to_public3 = ec2.SubnetRouteTableAssociation('associateToPublic3', \n",
    "                                                             RouteTableId=Ref(route_table),\n",
    "                                                             SubnetId=Ref(public3))\n",
    "resources.add(route_table)\n",
    "resources.add(route_to_igw)\n",
    "resources.add(associate_route_to_public1)\n",
    "resources.add(associate_route_to_public2)\n",
    "resources.add(associate_route_to_public3)"
   ]
  },
  {
   "cell_type": "markdown",
   "metadata": {
    "deletable": true,
    "editable": true
   },
   "source": [
    "## LoadBalancing"
   ]
  },
  {
   "cell_type": "code",
   "execution_count": null,
   "metadata": {
    "collapsed": false,
    "deletable": true,
    "editable": true
   },
   "outputs": [],
   "source": []
  },
  {
   "cell_type": "markdown",
   "metadata": {
    "deletable": true,
    "editable": true
   },
   "source": [
    "## AutoScaling"
   ]
  },
  {
   "cell_type": "code",
   "execution_count": null,
   "metadata": {
    "collapsed": true,
    "deletable": true,
    "editable": true
   },
   "outputs": [],
   "source": []
  },
  {
   "cell_type": "markdown",
   "metadata": {
    "deletable": true,
    "editable": true
   },
   "source": [
    "## Bastion"
   ]
  },
  {
   "cell_type": "code",
   "execution_count": null,
   "metadata": {
    "collapsed": true,
    "deletable": true,
    "editable": true
   },
   "outputs": [],
   "source": []
  },
  {
   "cell_type": "markdown",
   "metadata": {
    "deletable": true,
    "editable": true
   },
   "source": [
    "# Outputs"
   ]
  },
  {
   "cell_type": "code",
   "execution_count": null,
   "metadata": {
    "collapsed": true,
    "deletable": true,
    "editable": true
   },
   "outputs": [],
   "source": []
  },
  {
   "cell_type": "markdown",
   "metadata": {
    "deletable": true,
    "editable": true
   },
   "source": [
    "#  Build\n",
    "---"
   ]
  },
  {
   "cell_type": "code",
   "execution_count": 9,
   "metadata": {
    "collapsed": false,
    "deletable": true,
    "editable": true
   },
   "outputs": [
    {
     "name": "stdout",
     "output_type": "stream",
     "text": [
      "ok\r\n"
     ]
    }
   ],
   "source": [
    "file_name = 'custom_monitoring.json'\n",
    "\n",
    "def build(filename):\n",
    "    fname = 'outputs/' + filename\n",
    "    for r in resources:\n",
    "        t.add_resource(r)\n",
    "    \n",
    "    with open(fname, 'w') as fd:\n",
    "        fd.write(t.to_json())\n",
    "    \n",
    "    !aws cloudformation validate-template --template-body file://{fname} > /dev/null && echo \"build ok\"\n",
    "\n",
    "build(file_name)"
   ]
  }
 ],
 "metadata": {
  "kernelspec": {
   "display_name": "Python 3",
   "language": "python",
   "name": "python3"
  },
  "language_info": {
   "codemirror_mode": {
    "name": "ipython",
    "version": 3
   },
   "file_extension": ".py",
   "mimetype": "text/x-python",
   "name": "python",
   "nbconvert_exporter": "python",
   "pygments_lexer": "ipython3",
   "version": "3.6.0"
  }
 },
 "nbformat": 4,
 "nbformat_minor": 1
}
