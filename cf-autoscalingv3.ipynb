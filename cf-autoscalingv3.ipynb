{
 "cells": [
  {
   "cell_type": "markdown",
   "metadata": {
    "deletable": true,
    "editable": true
   },
   "source": [
    "# Cloudformation - autoscalingv3\n",
    "`Status: incomplete`\n",
    "\n",
    "Extend v2 template by adding a bastion host, and monitoring.\n",
    "- VPC `(10.0.0.0/16)`\n",
    " - IGW with route from `0.0.0.0/0`\n",
    "- 3 Public Subnets\n",
    " - `10.0.1.0/24`\n",
    " - `10.0.2.0/24`\n",
    " - `10.0.3.0/24`\n",
    " - Accesible via bastion\n",
    "- AutoScalingGroup\n",
    " - Min:2, Max:2\n",
    "- Application ELB\n",
    " - Healthchecks\n",
    "- CloudWatch\n",
    "\n",
    "Serving a page identifying instance information over http/80\n",
    "\n",
    "---"
   ]
  },
  {
   "cell_type": "code",
   "execution_count": null,
   "metadata": {
    "collapsed": true,
    "deletable": true,
    "editable": true
   },
   "outputs": [],
   "source": [
    "from troposphere import Template, Ref, GetAtt, GetAZs, Base64, Join, FindInMap, Select, Output, Parameter, Tags\n",
    "from troposphere.autoscaling import AutoScalingGroup, LaunchConfiguration\n",
    "from troposphere.autoscaling import Tag as asTag\n",
    "from troposphere.autoscaling import Tags as asTags\n",
    "import troposphere.ec2 as ec2\n",
    "import troposphere.elasticloadbalancingv2 as elb\n",
    "import boto3\n",
    "import botocore"
   ]
  },
  {
   "cell_type": "code",
   "execution_count": null,
   "metadata": {
    "collapsed": false,
    "deletable": true,
    "editable": true
   },
   "outputs": [],
   "source": [
    "resources = set()\n",
    "t = Template()\n",
    "t.add_version('2010-09-09')\n",
    "t.add_description('autoscaling, application elb, bastion, cloudwatch')\n",
    "\n",
    "# common tag to apply to most resources\n",
    "site_tags = Tags(Site='example.com')\n",
    "\n",
    "# loadbalance across 2 AZs\n",
    "az1 = Select('0', GetAZs(''))\n",
    "az2 = Select('1', GetAZs(''))\n",
    "az3 = Select('2', GetAZs(''))"
   ]
  },
  {
   "cell_type": "markdown",
   "metadata": {
    "deletable": true,
    "editable": true
   },
   "source": [
    "# Parameters\n",
    "---"
   ]
  },
  {
   "cell_type": "code",
   "execution_count": null,
   "metadata": {
    "collapsed": false,
    "deletable": true,
    "editable": true
   },
   "outputs": [],
   "source": [
    "keyname = Parameter('keyname', \n",
    "                    Default='main', \n",
    "                    Description='Key to use for ssh access',\n",
    "                    Type='String')\n",
    "t.add_parameter(keyname);"
   ]
  },
  {
   "cell_type": "markdown",
   "metadata": {
    "deletable": true,
    "editable": true
   },
   "source": [
    "# Maps"
   ]
  },
  {
   "cell_type": "code",
   "execution_count": null,
   "metadata": {
    "collapsed": true,
    "deletable": true,
    "editable": true
   },
   "outputs": [],
   "source": [
    "# Amazon Linux AMI 2016.09.0 (HVM), SSD Volume Type\n",
    "t.add_mapping('RegionMap', { 'us-east-1':      {'ami': 'ami-b73b63a0'} # N. Virginia\n",
    "                           , 'us-east-2':      {'ami': 'ami-58277d3d'} # Ohio\n",
    "                           , 'us-west-1':      {'ami': 'ami-23e8a343'} # N. California\n",
    "                           , 'us-west-2':      {'ami': 'ami-5ec1673e'} # Oregon\n",
    "                           , 'eu-west-1':      {'ami': 'ami-9398d3e0'} # Ireland\n",
    "                           , 'eu-central-1':   {'ami': 'ami-f9619996'} # Frankfurt\n",
    "                           , 'ap-northeast-1': {'ami': 'ami-0c11b26d'} # Tokyo\n",
    "                           , 'ap-northeast-2': {'ami': 'ami-983ce8f6'} # Seoul\n",
    "                           , 'ap-southeast-1': {'ami': 'ami-b953f2da'} # Singapore\n",
    "                           , 'ap-southeast-2': {'ami': 'ami-db704cb8'} # Sydney\n",
    "                           , 'ap-south-1':     {'ami': 'ami-34b4c05b'} # Mumbai\n",
    "                           , 'sa-east-1':      {'ami': 'ami-97831ffb'} # São Paulo \n",
    "                           });"
   ]
  },
  {
   "cell_type": "markdown",
   "metadata": {
    "deletable": true,
    "editable": true
   },
   "source": [
    "# Resources\n",
    "---"
   ]
  },
  {
   "cell_type": "markdown",
   "metadata": {
    "deletable": true,
    "editable": true
   },
   "source": [
    "## Network"
   ]
  },
  {
   "cell_type": "markdown",
   "metadata": {
    "deletable": true,
    "editable": true
   },
   "source": [
    "### VPC"
   ]
  },
  {
   "cell_type": "code",
   "execution_count": null,
   "metadata": {
    "collapsed": false,
    "deletable": true,
    "editable": true
   },
   "outputs": [],
   "source": [
    "vpc = ec2.VPC('exampleVpc', CidrBlock='10.0.0.0/16', Tags=site_tags)\n",
    "igw = ec2.InternetGateway('igw', Tags=site_tags)\n",
    "attach_igw = ec2.VPCGatewayAttachment('attachIgw', InternetGatewayId=Ref(igw), VpcId=Ref(vpc))\n",
    "\n",
    "resources.add(vpc)\n",
    "resources.add(igw)\n",
    "resources.add(attach_igw)"
   ]
  },
  {
   "cell_type": "markdown",
   "metadata": {
    "deletable": true,
    "editable": true
   },
   "source": [
    "### Subnets"
   ]
  },
  {
   "cell_type": "markdown",
   "metadata": {
    "deletable": true,
    "editable": true
   },
   "source": [
    "Two public subnets/AZs for use with application loadbalancer."
   ]
  },
  {
   "cell_type": "code",
   "execution_count": null,
   "metadata": {
    "collapsed": false,
    "deletable": true,
    "editable": true
   },
   "outputs": [],
   "source": [
    "public1 = ec2.Subnet('public1', AvailabilityZone=az1, CidrBlock='10.0.1.0/24', VpcId=Ref(vpc), Tags=site_tags)\n",
    "public2 = ec2.Subnet('public2', AvailabilityZone=az2, CidrBlock='10.0.2.0/24', VpcId=Ref(vpc), Tags=site_tags)\n",
    "public3 = ec2.Subnet('public3', AvailabilityZone=az3, CidrBlock='10.0.3.0/24', VpcId=Ref(vpc), Tags=site_tags)\n",
    "resources.add(public1)\n",
    "resources.add(public2)\n",
    "resources.add(public3)"
   ]
  },
  {
   "cell_type": "markdown",
   "metadata": {
    "deletable": true,
    "editable": true
   },
   "source": [
    "### Security Groups"
   ]
  },
  {
   "cell_type": "code",
   "execution_count": null,
   "metadata": {
    "collapsed": false,
    "deletable": true,
    "editable": true
   },
   "outputs": [],
   "source": [
    "ssh_port = 22\n",
    "bastion_rules = [ec2.SecurityGroupRule(IpProtocol='tcp', CidrIp='0.0.0.0/0', FromPort=ssh_port, ToPort=ssh_port)]\n",
    "bastion_sg = ec2.SecurityGroup('bastionSg',\n",
    "                               GroupDescription='allow ssh traffic',\n",
    "                               SecurityGroupIngress=bastion_rules,\n",
    "                               VpcId=Ref(vpc),\n",
    "                               Tags=site_tags)\n",
    "\n",
    "allowed_ports = [80]\n",
    "web_rules = [ec2.SecurityGroupRule(IpProtocol='tcp', CidrIp='0.0.0.0/0', FromPort=p, ToPort=p) for p in allowed_ports]\n",
    "web_rules.append(ec2.SecurityGroupRule(IpProtocol='tcp', SourceSecurityGroupId=Ref(bastion_sg), FromPort=22, ToPort=22))\n",
    "\n",
    "web_dmz_sg = ec2.SecurityGroup('webDmzSg',\n",
    "                               GroupDescription='allow http traffic',\n",
    "                               SecurityGroupIngress=web_rules,\n",
    "                               VpcId=Ref(vpc),\n",
    "                               Tags=site_tags)\n",
    "\n",
    "resources.add(web_dmz_sg)\n",
    "resources.add(bastion_sg)"
   ]
  },
  {
   "cell_type": "markdown",
   "metadata": {
    "deletable": true,
    "editable": true
   },
   "source": [
    "### Routes"
   ]
  },
  {
   "cell_type": "code",
   "execution_count": null,
   "metadata": {
    "collapsed": false,
    "deletable": true,
    "editable": true
   },
   "outputs": [],
   "source": [
    "route_table = ec2.RouteTable('routeTable', VpcId=Ref(vpc), Tags=site_tags)\n",
    "route_to_igw = ec2.Route('routeToIgw',\n",
    "                         DestinationCidrBlock='0.0.0.0/0',\n",
    "                         RouteTableId=Ref(route_table),\n",
    "                         GatewayId=Ref(igw))\n",
    "associate_route_to_public1 = ec2.SubnetRouteTableAssociation('associateToPublic1', \n",
    "                                                             RouteTableId=Ref(route_table),\n",
    "                                                             SubnetId=Ref(public1))\n",
    "associate_route_to_public2 = ec2.SubnetRouteTableAssociation('associateToPublic2', \n",
    "                                                             RouteTableId=Ref(route_table),\n",
    "                                                             SubnetId=Ref(public2))\n",
    "associate_route_to_public3 = ec2.SubnetRouteTableAssociation('associateToPublic3', \n",
    "                                                             RouteTableId=Ref(route_table),\n",
    "                                                             SubnetId=Ref(public3))\n",
    "resources.add(route_table)\n",
    "resources.add(route_to_igw)\n",
    "resources.add(associate_route_to_public1)\n",
    "resources.add(associate_route_to_public2)\n",
    "resources.add(associate_route_to_public3)"
   ]
  },
  {
   "cell_type": "markdown",
   "metadata": {
    "deletable": true,
    "editable": true
   },
   "source": [
    "## LoadBalancing"
   ]
  },
  {
   "cell_type": "code",
   "execution_count": null,
   "metadata": {
    "collapsed": false,
    "deletable": true,
    "editable": true
   },
   "outputs": [],
   "source": [
    "web_target_group = elb.TargetGroup('webTargetGroup',\n",
    "                                   Name='webNodes',\n",
    "                                   Port=80,\n",
    "                                   Protocol='HTTP',\n",
    "                                   HealthCheckPath='/',\n",
    "                                   HealthCheckPort='80',\n",
    "                                   HealthCheckProtocol='HTTP',\n",
    "                                   HealthCheckIntervalSeconds=60,\n",
    "                                   HealthCheckTimeoutSeconds=45,\n",
    "                                   HealthyThresholdCount=4,\n",
    "                                   UnhealthyThresholdCount=3,\n",
    "                                   Matcher=elb.Matcher(HttpCode='200'),\n",
    "                                   VpcId=Ref(vpc),\n",
    "                                   Tags=site_tags)\n",
    "\n",
    "loadbalancer = elb.LoadBalancer('webElb',\n",
    "                                Name='webElb',\n",
    "                                Scheme='internet-facing',\n",
    "                                SecurityGroups=[Ref(web_dmz_sg)],\n",
    "                                Subnets=[Ref(public1), Ref(public2), Ref(public3)],\n",
    "                                Tags=site_tags)\n",
    "\n",
    "elb_listener = elb.Listener('listen80',\n",
    "                            DefaultActions=[elb.Action(Type='forward', TargetGroupArn=Ref(web_target_group))],\n",
    "                            LoadBalancerArn=Ref(loadbalancer),\n",
    "                            Port=80,\n",
    "                            Protocol='HTTP')\n",
    "\n",
    "resources.add(elb_listener)\n",
    "resources.add(loadbalancer)\n",
    "resources.add(web_target_group)"
   ]
  },
  {
   "cell_type": "markdown",
   "metadata": {
    "deletable": true,
    "editable": true
   },
   "source": [
    "## AutoScaling"
   ]
  },
  {
   "cell_type": "code",
   "execution_count": null,
   "metadata": {
    "collapsed": true,
    "deletable": true,
    "editable": true
   },
   "outputs": [],
   "source": [
    "script = \"\"\"\\\n",
    "#!/bin/bash\n",
    "sudo yum update -y\n",
    "sudo yum install httpd -y\n",
    "wget https://raw.githubusercontent.com/epequeno/aws-cf/master/scripts/make_page.py\n",
    "sudo python make_page.py\n",
    "sudo service httpd start\n",
    "\"\"\"\n",
    "\n",
    "def make_userdata(text):\n",
    "    return Base64(Join('', text.splitlines(True)))\n",
    "\n",
    "user_data = make_userdata(script)\n",
    "\n",
    "launch_config = LaunchConfiguration('webLaunchConfig',\n",
    "                                    AssociatePublicIpAddress=True,\n",
    "                                    ImageId=FindInMap('RegionMap', Ref('AWS::Region'), 'ami'),\n",
    "                                    InstanceType='t2.micro',\n",
    "                                    KeyName=Ref(keyname),\n",
    "                                    SecurityGroups=[GetAtt(web_dmz_sg, 'GroupId')],\n",
    "                                    UserData=user_data)\n",
    "\n",
    "asg_tag = asTag('Site', 'example.com', True)\n",
    "asg = AutoScalingGroup('webAsg',\n",
    "                       LaunchConfigurationName=Ref(launch_config),\n",
    "                       AvailabilityZones=[az1, az2, az3],\n",
    "                       VPCZoneIdentifier=[Ref(public1), Ref(public2), Ref(public3)],\n",
    "                       TargetGroupARNs=[Ref(web_target_group)],\n",
    "                       MinSize=3,\n",
    "                       MaxSize=4,\n",
    "                       Tags=[asg_tag])\n",
    "\n",
    "resources.add(launch_config)\n",
    "resources.add(asg)"
   ]
  },
  {
   "cell_type": "markdown",
   "metadata": {
    "deletable": true,
    "editable": true
   },
   "source": [
    "## Bastion"
   ]
  },
  {
   "cell_type": "code",
   "execution_count": null,
   "metadata": {
    "collapsed": false,
    "deletable": true,
    "editable": true
   },
   "outputs": [],
   "source": [
    "bastion = ec2.Instance('bastion',\n",
    "                       AvailabilityZone=az1,\n",
    "                       ImageId=FindInMap('RegionMap', Ref('AWS::Region'), 'ami'),\n",
    "                       InstanceType='t2.micro',\n",
    "                       KeyName=Ref(keyname),\n",
    "                       SecurityGroupIds=[GetAtt(bastion_sg, 'GroupId')],\n",
    "                       SubnetId=Ref(public1),\n",
    "                       Tags=site_tags)\n",
    "bastion_public_ip = ec2.EIP('bastionEip', Domain=Ref(vpc), InstanceId=Ref(bastion))\n",
    "\n",
    "resources.add(bastion)\n",
    "resources.add(bastion_public_ip)"
   ]
  },
  {
   "cell_type": "markdown",
   "metadata": {
    "deletable": true,
    "editable": true
   },
   "source": [
    "# Outputs"
   ]
  },
  {
   "cell_type": "code",
   "execution_count": null,
   "metadata": {
    "collapsed": false,
    "deletable": true,
    "editable": true
   },
   "outputs": [],
   "source": [
    "elb_dns_name = Output('elbDnsName',\n",
    "                      Description='DNS name for elb',\n",
    "                      Value=GetAtt(loadbalancer, 'DNSName'))\n",
    "bastion_public_ip = Output('bastionPublicIp',\n",
    "                           Description='public IP for bastion',\n",
    "                           Value=GetAtt(bastion, 'PublicIp'))\n",
    "t.add_output(elb_dns_name)\n",
    "t.add_output(bastion_public_ip);"
   ]
  },
  {
   "cell_type": "markdown",
   "metadata": {
    "deletable": true,
    "editable": true
   },
   "source": [
    "#  Build\n",
    "---"
   ]
  },
  {
   "cell_type": "markdown",
   "metadata": {
    "deletable": true,
    "editable": true
   },
   "source": [
    "Write the template to file and validate it."
   ]
  },
  {
   "cell_type": "code",
   "execution_count": null,
   "metadata": {
    "collapsed": false,
    "deletable": true,
    "editable": true
   },
   "outputs": [],
   "source": [
    "file_name = 'asgv3'\n",
    "\n",
    "def build(filename):\n",
    "    fname = 'outputs/{}.json'.format(filename)\n",
    "    for r in resources:\n",
    "        t.add_resource(r)\n",
    "    \n",
    "    with open(fname, 'w') as fd:\n",
    "        fd.write(t.to_json())\n",
    "    \n",
    "    !aws cloudformation validate-template --template-body file://{fname} > /dev/null && echo \"build ok\"\n",
    "\n",
    "build(file_name)"
   ]
  },
  {
   "cell_type": "markdown",
   "metadata": {
    "deletable": true,
    "editable": true
   },
   "source": [
    "Create the stack"
   ]
  },
  {
   "cell_type": "code",
   "execution_count": null,
   "metadata": {
    "collapsed": false,
    "deletable": true,
    "editable": true
   },
   "outputs": [],
   "source": [
    "cf_client = boto3.client('cloudformation')\n",
    "stack_name = file_name\n",
    "stack_body = t.to_json()\n",
    "cs = cf_client.create_stack(StackName=stack_name, \n",
    "                       TemplateBody=stack_body,\n",
    "                       Parameters=[{'ParameterKey': 'keyname',\n",
    "                                    'ParameterValue': 'jupiter',\n",
    "                                    'UsePreviousValue': False}])\n",
    "print(cs['ResponseMetadata']['HTTPStatusCode'])"
   ]
  },
  {
   "cell_type": "markdown",
   "metadata": {
    "deletable": true,
    "editable": true
   },
   "source": [
    "Check for status/outputs"
   ]
  },
  {
   "cell_type": "code",
   "execution_count": null,
   "metadata": {
    "collapsed": false,
    "deletable": true,
    "editable": true
   },
   "outputs": [],
   "source": [
    "try:\n",
    "    stack = cf_client.describe_stacks(StackName=stack_name)['Stacks'][0]\n",
    "    if stack['StackStatus'] == 'CREATE_COMPLETE':\n",
    "        for o in stack['Outputs']:\n",
    "            print(o['OutputValue'])\n",
    "    else:\n",
    "        print(stack['StackStatus'])\n",
    "except botocore.exceptions.ClientError:\n",
    "    print(\"stack doesn't exist\")"
   ]
  },
  {
   "cell_type": "markdown",
   "metadata": {
    "deletable": true,
    "editable": true
   },
   "source": [
    "Delete the stack when done"
   ]
  },
  {
   "cell_type": "code",
   "execution_count": null,
   "metadata": {
    "collapsed": false,
    "deletable": true,
    "editable": true
   },
   "outputs": [],
   "source": [
    "ds = cf_client.delete_stack(StackName=stack_name)\n",
    "print(ds['ResponseMetadata']['HTTPStatusCode'])"
   ]
  },
  {
   "cell_type": "code",
   "execution_count": null,
   "metadata": {
    "collapsed": true,
    "deletable": true,
    "editable": true
   },
   "outputs": [],
   "source": []
  }
 ],
 "metadata": {
  "kernelspec": {
   "display_name": "Python 3",
   "language": "python",
   "name": "python3"
  },
  "language_info": {
   "codemirror_mode": {
    "name": "ipython",
    "version": 3
   },
   "file_extension": ".py",
   "mimetype": "text/x-python",
   "name": "python",
   "nbconvert_exporter": "python",
   "pygments_lexer": "ipython3",
   "version": "3.6.0"
  }
 },
 "nbformat": 4,
 "nbformat_minor": 1
}
