{
 "cells": [
  {
   "cell_type": "markdown",
   "metadata": {
    "deletable": true,
    "editable": true
   },
   "source": [
    "# plex\n",
    "\n",
    "------\n",
    "current status: **INCOMPLETE**\n",
    "\n",
    "- goal: install and configure a plex server\n",
    "- details:\n",
    "  - single ec2 server running a plex instance: https://www.plex.tv/\n",
    "  - behind elb\n",
    "  - ASG\n",
    "  - s3fs-fuse https://github.com/s3fs-fuse/s3fs-fuse"
   ]
  },
  {
   "cell_type": "code",
   "execution_count": null,
   "metadata": {
    "collapsed": false,
    "deletable": true,
    "editable": true
   },
   "outputs": [],
   "source": [
    "from plex_settings import domain_name, pms_rpm_url\n",
    "from troposphere import Template, Ref, GetAtt, GetAZs, Base64, Join, FindInMap, Select, Output, Parameter, Tags\n",
    "import troposphere.ec2 as ec2\n",
    "import troposphere.elasticloadbalancing as elb\n",
    "import boto3"
   ]
  },
  {
   "cell_type": "code",
   "execution_count": null,
   "metadata": {
    "collapsed": true,
    "deletable": true,
    "editable": true
   },
   "outputs": [],
   "source": [
    "resources = set()\n",
    "t = Template()\n",
    "t.add_version('2010-09-09')\n",
    "t.add_description('plex behind an elb and ASG')\n",
    "\n",
    "# common tag to apply to most resources\n",
    "domain_name_tags = Tags(Site=domain_name)\n",
    "\n",
    "# loadbalance across 2 AZs\n",
    "az1 = Select('0', GetAZs(''))\n",
    "az2 = Select('1', GetAZs(''))\n",
    "az3 = Select('2', GetAZs(''))"
   ]
  },
  {
   "cell_type": "code",
   "execution_count": null,
   "metadata": {
    "collapsed": false,
    "deletable": true,
    "editable": true
   },
   "outputs": [],
   "source": [
    "plex_vpc = ec2.VPC('plex', CidrBlock='10.0.0.0/16', Tags=domain_name_tags)\n",
    "resources.add(plex_vpc);"
   ]
  },
  {
   "cell_type": "code",
   "execution_count": null,
   "metadata": {
    "collapsed": false,
    "deletable": true,
    "editable": true
   },
   "outputs": [],
   "source": [
    "web_subnet = ec2.Subnet('webserver',\n",
    "                        AvailabilityZone=az1,\n",
    "                        CidrBlock='10.0.1.0/24',\n",
    "                        VpcId=Ref(plex_vpc),\n",
    "                        Tags=domain_name_tags)\n",
    "resources.add(web_subnet);"
   ]
  },
  {
   "cell_type": "code",
   "execution_count": null,
   "metadata": {
    "collapsed": false,
    "deletable": true,
    "editable": true
   },
   "outputs": [],
   "source": [
    "\n",
    "web_elb = elb.LoadBalancer('webElb',\n",
    "                           AvailabilityZones=az1,\n",
    "                           Subnets=Ref(web_subnet),\n",
    "                           Tags=domain_name_tags)\n"
   ]
  },
  {
   "cell_type": "code",
   "execution_count": null,
   "metadata": {
    "collapsed": false,
    "deletable": true,
    "editable": true
   },
   "outputs": [],
   "source": [
    "file_name = 'plex.json'\n",
    "\n",
    "def build(filename):\n",
    "    fname = 'outputs/' + filename\n",
    "    for r in resources:\n",
    "        t.add_resource(r)\n",
    "    \n",
    "    with open(fname, 'w') as fd:\n",
    "        fd.write(t.to_json())\n",
    "    \n",
    "    !aws cloudformation validate-template --template-body file://{fname} > /dev/null && echo \"build ok\"\n",
    "\n",
    "build(file_name)"
   ]
  },
  {
   "cell_type": "code",
   "execution_count": null,
   "metadata": {
    "collapsed": true,
    "deletable": true,
    "editable": true
   },
   "outputs": [],
   "source": [
    "client = boto3.client('cloudformation')"
   ]
  },
  {
   "cell_type": "code",
   "execution_count": null,
   "metadata": {
    "collapsed": false,
    "deletable": true,
    "editable": true
   },
   "outputs": [],
   "source": [
    "client.create_stack(StackName='plex',\n",
    "                    TemplateBody=t.to_json(),\n",
    "                    Parameters=[],\n",
    "                    Tags=domain_name_tags.to_dict())"
   ]
  },
  {
   "cell_type": "code",
   "execution_count": null,
   "metadata": {
    "collapsed": false,
    "deletable": true,
    "editable": true
   },
   "outputs": [],
   "source": [
    "for event in client.describe_stack_events(StackName='plex')['StackEvents']:\n",
    "    print(event['Timestamp'], event['ResourceStatus'], event['ResourceType'])"
   ]
  },
  {
   "cell_type": "code",
   "execution_count": null,
   "metadata": {
    "collapsed": false,
    "deletable": true,
    "editable": true
   },
   "outputs": [],
   "source": [
    "client.delete_stack(StackName='plex')"
   ]
  },
  {
   "cell_type": "code",
   "execution_count": null,
   "metadata": {
    "collapsed": true,
    "deletable": true,
    "editable": true
   },
   "outputs": [],
   "source": []
  }
 ],
 "metadata": {
  "kernelspec": {
   "display_name": "Python 3",
   "language": "python",
   "name": "python3"
  },
  "language_info": {
   "codemirror_mode": {
    "name": "ipython",
    "version": 3
   },
   "file_extension": ".py",
   "mimetype": "text/x-python",
   "name": "python",
   "nbconvert_exporter": "python",
   "pygments_lexer": "ipython3",
   "version": "3.6.0"
  }
 },
 "nbformat": 4,
 "nbformat_minor": 2
}
