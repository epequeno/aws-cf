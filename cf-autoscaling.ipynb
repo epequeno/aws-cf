{
 "cells": [
  {
   "cell_type": "code",
   "execution_count": 16,
   "metadata": {
    "collapsed": true
   },
   "outputs": [],
   "source": [
    "from troposphere import Template, Ref, Tags, Output, Parameter, FindInMap, GetAtt\n",
    "from troposphere.autoscaling import AutoScalingGroup, LaunchConfiguration, Tag\n",
    "import troposphere.ec2 as ec2\n",
    "import troposphere.elasticloadbalancingv2 as LoadBalancer"
   ]
  },
  {
   "cell_type": "code",
   "execution_count": 17,
   "metadata": {
    "collapsed": true
   },
   "outputs": [],
   "source": [
    "resources = set()\n",
    "t = Template()"
   ]
  },
  {
   "cell_type": "markdown",
   "metadata": {},
   "source": [
    "# Params\n",
    "---"
   ]
  },
  {
   "cell_type": "code",
   "execution_count": 18,
   "metadata": {
    "collapsed": false
   },
   "outputs": [],
   "source": [
    "keyname_param = Parameter('keyName',\n",
    "                          Description='existing key to use for ssh',\n",
    "                          Type='String')\n",
    "t.add_parameter(keyname_param);"
   ]
  },
  {
   "cell_type": "markdown",
   "metadata": {},
   "source": [
    "# Maps\n",
    "---"
   ]
  },
  {
   "cell_type": "code",
   "execution_count": 19,
   "metadata": {
    "collapsed": true
   },
   "outputs": [],
   "source": [
    "t.add_mapping('RegionMap', { 'us-east-1': {'ami': 'ami-b73b63a0'}\n",
    "                           , 'us-east-2': {'ami': 'ami-58277d3d'}\n",
    "                           , 'us-west-1': {'ami': 'ami-23e8a343'}\n",
    "                           , 'us-west-2': {'ami': 'ami-5ec1673e'}\n",
    "                           });"
   ]
  },
  {
   "cell_type": "markdown",
   "metadata": {},
   "source": [
    "# Resources\n",
    "---"
   ]
  },
  {
   "cell_type": "markdown",
   "metadata": {},
   "source": [
    "## Network"
   ]
  },
  {
   "cell_type": "code",
   "execution_count": 20,
   "metadata": {
    "collapsed": true
   },
   "outputs": [],
   "source": [
    "vpc = ec2.VPC('myVpc', CidrBlock='10.0.0.0/16')\n",
    "resources.add(vpc)"
   ]
  },
  {
   "cell_type": "code",
   "execution_count": 21,
   "metadata": {
    "collapsed": true
   },
   "outputs": [],
   "source": [
    "web_dmz = ec2.Subnet('webDmz', CidrBlock='10.0.0.0/24', VpcId=Ref(vpc))\n",
    "resources.add(web_dmz)"
   ]
  },
  {
   "cell_type": "code",
   "execution_count": 22,
   "metadata": {
    "collapsed": false
   },
   "outputs": [],
   "source": [
    "igw = ec2.InternetGateway('igw')\n",
    "attach_igw = ec2.VPCGatewayAttachment('attachIgw', VpcId=Ref(vpc), InternetGatewayId=Ref(igw))\n",
    "resources.add(igw)\n",
    "resources.add(attach_igw)"
   ]
  },
  {
   "cell_type": "code",
   "execution_count": 23,
   "metadata": {
    "collapsed": false
   },
   "outputs": [],
   "source": [
    "route_table = ec2.RouteTable('routeTable', VpcId=Ref(vpc))\n",
    "gw_route = ec2.Route('gwRoute',\n",
    "                     DestinationCidrBlock='0.0.0.0/0',\n",
    "                     GatewayId=Ref(igw),\n",
    "                     RouteTableId=Ref(route_table))\n",
    "associate_route_table = ec2.SubnetRouteTableAssociation('associateRouteTable', \n",
    "                                                        RouteTableId=Ref(route_table),\n",
    "                                                        SubnetId=Ref(web_dmz))\n",
    "resources.add(route_table)\n",
    "resources.add(gw_route)\n",
    "resources.add(associate_route_table)"
   ]
  },
  {
   "cell_type": "markdown",
   "metadata": {},
   "source": [
    "## Security Groups"
   ]
  },
  {
   "cell_type": "code",
   "execution_count": 24,
   "metadata": {
    "collapsed": true
   },
   "outputs": [],
   "source": [
    "allowed_ports = [22, 80, 443]\n",
    "rules = [ec2.SecurityGroupRule(CidrIp='0.0.0.0/0', FromPort=p, ToPort=p, IpProtocol='tcp') for p in allowed_ports]\n",
    "\n",
    "web_dmz_sg = ec2.SecurityGroup('webDmzSg',\n",
    "                               DependsOn='attachIgw',\n",
    "                               GroupDescription='allow http/s traffic to web nodes',\n",
    "                               VpcId=Ref(vpc),\n",
    "                               SecurityGroupIngress=rules)\n",
    "resources.add(web_dmz_sg)"
   ]
  },
  {
   "cell_type": "markdown",
   "metadata": {},
   "source": [
    "## Autoscaling"
   ]
  },
  {
   "cell_type": "code",
   "execution_count": 25,
   "metadata": {
    "collapsed": false
   },
   "outputs": [],
   "source": [
    "launch_config = LaunchConfiguration('launchConfig',\n",
    "                                    DependsOn='attachIgw',\n",
    "                                    AssociatePublicIpAddress=True,\n",
    "                                    SecurityGroups=[Ref(web_dmz_sg)],\n",
    "                                    ImageId=FindInMap('RegionMap', Ref('AWS::Region'), 'ami'),\n",
    "                                    InstanceType='t2.micro',\n",
    "                                    KeyName=Ref(keyname_param))\n",
    "\n",
    "web_asg = AutoScalingGroup('webAsg',\n",
    "                           VPCZoneIdentifier=[Ref(web_dmz)],\n",
    "                           LaunchConfigurationName=Ref(launch_config),\n",
    "                           AvailabilityZones=[GetAtt(web_dmz, 'AvailabilityZone')],\n",
    "                           DesiredCapacity=1,\n",
    "                           MinSize=1,\n",
    "                           MaxSize=4)\n",
    "\n",
    "resources.add(launch_config)\n",
    "resources.add(web_asg)"
   ]
  },
  {
   "cell_type": "markdown",
   "metadata": {},
   "source": [
    "# Outputs"
   ]
  },
  {
   "cell_type": "markdown",
   "metadata": {},
   "source": [
    "# Build\n",
    "---"
   ]
  },
  {
   "cell_type": "code",
   "execution_count": 26,
   "metadata": {
    "collapsed": false
   },
   "outputs": [],
   "source": [
    "for r in resources:\n",
    "    t.add_resource(r)\n",
    "    \n",
    "with open('auto.json', 'w') as fd:\n",
    "    fd.write(t.to_json())"
   ]
  },
  {
   "cell_type": "code",
   "execution_count": 27,
   "metadata": {
    "collapsed": false
   },
   "outputs": [
    {
     "name": "stdout",
     "output_type": "stream",
     "text": [
      "ok\r\n"
     ]
    }
   ],
   "source": [
    "!aws cloudformation validate-template --template-body file://auto.json > /dev/null && echo \"ok\" || echo \"nope\""
   ]
  },
  {
   "cell_type": "code",
   "execution_count": null,
   "metadata": {
    "collapsed": true
   },
   "outputs": [],
   "source": []
  }
 ],
 "metadata": {
  "kernelspec": {
   "display_name": "Python 3",
   "language": "python",
   "name": "python3"
  },
  "language_info": {
   "codemirror_mode": {
    "name": "ipython",
    "version": 3
   },
   "file_extension": ".py",
   "mimetype": "text/x-python",
   "name": "python",
   "nbconvert_exporter": "python",
   "pygments_lexer": "ipython3",
   "version": "3.5.0"
  }
 },
 "nbformat": 4,
 "nbformat_minor": 1
}
