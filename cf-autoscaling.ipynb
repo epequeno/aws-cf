{
 "cells": [
  {
   "cell_type": "code",
   "execution_count": null,
   "metadata": {
    "collapsed": true
   },
   "outputs": [],
   "source": [
    "from troposphere import Template, Ref, Tags, Output, Parameter, FindInMap, GetAtt, Join, Select, GetAZs, Base64\n",
    "from troposphere.autoscaling import AutoScalingGroup, LaunchConfiguration, Tag\n",
    "import troposphere.ec2 as ec2\n",
    "import troposphere.elasticloadbalancingv2 as elb"
   ]
  },
  {
   "cell_type": "code",
   "execution_count": null,
   "metadata": {
    "collapsed": true
   },
   "outputs": [],
   "source": [
    "resources = set()\n",
    "t = Template()\n",
    "t.add_version('2010-09-09')\n",
    "t.add_description('autoscaling, application elb')\n",
    "tags = Tags(Site='example.com');"
   ]
  },
  {
   "cell_type": "markdown",
   "metadata": {},
   "source": [
    "# Params\n",
    "---"
   ]
  },
  {
   "cell_type": "code",
   "execution_count": null,
   "metadata": {
    "collapsed": false
   },
   "outputs": [],
   "source": [
    "keyname_param = Parameter('keyName',\n",
    "                          Default='main',\n",
    "                          Description='existing key to use for ssh',\n",
    "                          Type='String')\n",
    "t.add_parameter(keyname_param);"
   ]
  },
  {
   "cell_type": "markdown",
   "metadata": {},
   "source": [
    "# Maps\n",
    "---"
   ]
  },
  {
   "cell_type": "code",
   "execution_count": null,
   "metadata": {
    "collapsed": true
   },
   "outputs": [],
   "source": [
    "t.add_mapping('RegionMap', { 'us-east-1': {'ami': 'ami-b73b63a0'}\n",
    "                           , 'us-east-2': {'ami': 'ami-58277d3d'}\n",
    "                           , 'us-west-1': {'ami': 'ami-23e8a343'}\n",
    "                           , 'us-west-2': {'ami': 'ami-5ec1673e'}\n",
    "                           });"
   ]
  },
  {
   "cell_type": "markdown",
   "metadata": {},
   "source": [
    "# Resources\n",
    "---"
   ]
  },
  {
   "cell_type": "markdown",
   "metadata": {},
   "source": [
    "## Network"
   ]
  },
  {
   "cell_type": "code",
   "execution_count": null,
   "metadata": {
    "collapsed": true
   },
   "outputs": [],
   "source": [
    "vpc = ec2.VPC('myVpc', CidrBlock='10.0.0.0/16', Tags=tags)\n",
    "resources.add(vpc)"
   ]
  },
  {
   "cell_type": "code",
   "execution_count": null,
   "metadata": {
    "collapsed": false
   },
   "outputs": [],
   "source": [
    "web_dmz1 = ec2.Subnet('webDmz1', \n",
    "                      CidrBlock='10.0.0.0/24', \n",
    "                      VpcId=Ref(vpc),\n",
    "                      AvailabilityZone=Select('0', GetAZs(Ref('AWS::Region'))),\n",
    "                      Tags=tags)\n",
    "\n",
    "web_dmz2 = ec2.Subnet('webDmz2', \n",
    "                      CidrBlock='10.0.1.0/24', \n",
    "                      VpcId=Ref(vpc),\n",
    "                      AvailabilityZone=Select('1', GetAZs(Ref('AWS::Region'))),\n",
    "                      Tags=tags)\n",
    "resources.add(web_dmz1)\n",
    "resources.add(web_dmz2)"
   ]
  },
  {
   "cell_type": "code",
   "execution_count": null,
   "metadata": {
    "collapsed": false
   },
   "outputs": [],
   "source": [
    "igw = ec2.InternetGateway('igw', Tags=tags)\n",
    "attach_igw = ec2.VPCGatewayAttachment('attachIgw', VpcId=Ref(vpc), InternetGatewayId=Ref(igw))\n",
    "resources.add(igw)\n",
    "resources.add(attach_igw)"
   ]
  },
  {
   "cell_type": "code",
   "execution_count": null,
   "metadata": {
    "collapsed": false
   },
   "outputs": [],
   "source": [
    "route_table = ec2.RouteTable('routeTable', VpcId=Ref(vpc), Tags=tags)\n",
    "gw_route = ec2.Route('gwRoute',\n",
    "                     DestinationCidrBlock='0.0.0.0/0',\n",
    "                     GatewayId=Ref(igw),\n",
    "                     RouteTableId=Ref(route_table))\n",
    "associate_route_table1 = ec2.SubnetRouteTableAssociation('associateRouteTable1', \n",
    "                                                        RouteTableId=Ref(route_table),\n",
    "                                                        SubnetId=Ref(web_dmz1))\n",
    "associate_route_table2 = ec2.SubnetRouteTableAssociation('associateRouteTable2', \n",
    "                                                        RouteTableId=Ref(route_table),\n",
    "                                                        SubnetId=Ref(web_dmz2))\n",
    "resources.add(route_table)\n",
    "resources.add(gw_route)\n",
    "resources.add(associate_route_table1)\n",
    "resources.add(associate_route_table2)"
   ]
  },
  {
   "cell_type": "markdown",
   "metadata": {},
   "source": [
    "## Security Groups"
   ]
  },
  {
   "cell_type": "code",
   "execution_count": null,
   "metadata": {
    "collapsed": true
   },
   "outputs": [],
   "source": [
    "allowed_ports = [22, 80, 443]\n",
    "rules = [ec2.SecurityGroupRule(CidrIp='0.0.0.0/0', FromPort=p, ToPort=p, IpProtocol='tcp') for p in allowed_ports]\n",
    "\n",
    "web_dmz_sg = ec2.SecurityGroup('webDmzSg',\n",
    "                               DependsOn='attachIgw',\n",
    "                               GroupDescription='allow http/s traffic to web nodes',\n",
    "                               VpcId=Ref(vpc),\n",
    "                               SecurityGroupIngress=rules,\n",
    "                               Tags=tags)\n",
    "resources.add(web_dmz_sg)"
   ]
  },
  {
   "cell_type": "markdown",
   "metadata": {},
   "source": [
    "## Autoscaling"
   ]
  },
  {
   "cell_type": "code",
   "execution_count": null,
   "metadata": {
    "collapsed": false
   },
   "outputs": [],
   "source": [
    "launch_config = LaunchConfiguration('launchConfig',\n",
    "                                    DependsOn='attachIgw',\n",
    "                                    SecurityGroups=[Ref(web_dmz_sg)],\n",
    "                                    ImageId=FindInMap('RegionMap', Ref('AWS::Region'), 'ami'),\n",
    "                                    InstanceType='t2.micro',\n",
    "                                    KeyName=Ref(keyname_param))\n",
    "\n",
    "asg_tags = [Tag('Site', 'example.com', True)]\n",
    "web_asg = AutoScalingGroup('webAsg',\n",
    "                           VPCZoneIdentifier=[Ref(web_dmz1), Ref(web_dmz2)],\n",
    "                           LaunchConfigurationName=Ref(launch_config),\n",
    "                           AvailabilityZones=[GetAtt(web_dmz1, 'AvailabilityZone'), GetAtt(web_dmz2, 'AvailabilityZone')],\n",
    "                           DesiredCapacity=2,\n",
    "                           MinSize=2,\n",
    "                           MaxSize=4,\n",
    "                           Tags=asg_tags)\n",
    "\n",
    "resources.add(launch_config)\n",
    "resources.add(web_asg)\n",
    "launch_config.props"
   ]
  },
  {
   "cell_type": "markdown",
   "metadata": {},
   "source": [
    "## Initial instances"
   ]
  },
  {
   "cell_type": "code",
   "execution_count": null,
   "metadata": {
    "collapsed": false
   },
   "outputs": [],
   "source": [
    "script = \"\"\"\\\n",
    "#!/bin/bash\n",
    "sudo yum update -y\n",
    "sudo yum install httpd -y\n",
    "wget https://raw.githubusercontent.com/epequeno/aws-cf/master/make_page.py\n",
    "sudo python make_page.py\n",
    "sudo service httpd start\n",
    "\"\"\"\n",
    "\n",
    "def make_userdata(text):\n",
    "    return Base64(Join('', text.splitlines(True)))\n",
    "\n",
    "user_data = make_userdata(script)\n",
    "\n",
    "web_instance1 = ec2.Instance('web1',\n",
    "                            ImageId=FindInMap('RegionMap', Ref('AWS::Region'), 'ami'),\n",
    "                            InstanceType='t2.micro',\n",
    "                            KeyName=Ref(keyname_param),\n",
    "                            SecurityGroupIds=[GetAtt(web_dmz_sg, 'GroupId')],\n",
    "                            SubnetId=Ref(web_dmz1),\n",
    "                            UserData=user_data,\n",
    "                            Tags=tags)\n",
    "\n",
    "web_instance2 = ec2.Instance('web2',\n",
    "                            ImageId=FindInMap('RegionMap', Ref('AWS::Region'), 'ami'),\n",
    "                            InstanceType='t2.micro',\n",
    "                            KeyName=Ref(keyname_param),\n",
    "                            SecurityGroupIds=[GetAtt(web_dmz_sg, 'GroupId')],\n",
    "                            SubnetId=Ref(web_dmz2),\n",
    "                            UserData=user_data,\n",
    "                            Tags=tags)\n",
    "\n",
    "resources.add(web_instance1)\n",
    "resources.add(web_instance2)"
   ]
  },
  {
   "cell_type": "markdown",
   "metadata": {},
   "source": [
    "## Loadbalancing"
   ]
  },
  {
   "cell_type": "code",
   "execution_count": null,
   "metadata": {
    "collapsed": false
   },
   "outputs": [],
   "source": [
    "web_elb = elb.LoadBalancer('webElb',\n",
    "                           Name='appElb',\n",
    "                           Scheme='internet-facing',\n",
    "                           Subnets=[Ref(web_dmz1), Ref(web_dmz2)],\n",
    "                           SecurityGroups=[Ref(web_dmz_sg)],\n",
    "                           Tags=tags)\n",
    "\n",
    "web1_target_description = elb.TargetDescription('webTarget1',\n",
    "                                                Id=Ref(web_instance1),\n",
    "                                                Port=80)\n",
    "web2_target_description = elb.TargetDescription('webTarget2',\n",
    "                                                Id=Ref(web_instance2),\n",
    "                                                Port=80)\n",
    "\n",
    "web_target_group = elb.TargetGroup('webTargetGroup',\n",
    "                                   Name='webTargetGroup',\n",
    "                                   Port=80,\n",
    "                                   Protocol='HTTP',\n",
    "                                   HealthCheckIntervalSeconds=60,\n",
    "                                   HealthCheckProtocol='HTTP',\n",
    "                                   HealthCheckTimeoutSeconds=10,\n",
    "                                   HealthyThresholdCount=4,\n",
    "                                   UnhealthyThresholdCount=3,\n",
    "                                   Targets=[web1_target_description, web2_target_description],\n",
    "                                   VpcId=Ref(vpc),\n",
    "                                   Matcher=elb.Matcher(HttpCode='200'),\n",
    "                                   Tags=tags)\n",
    "\n",
    "elb_listener = elb.Listener('elbListener',\n",
    "                            Port='80',\n",
    "                            Protocol='HTTP',\n",
    "                            LoadBalancerArn=Ref(web_elb),\n",
    "                            DefaultActions=[elb.Action(Type='forward',\n",
    "                                                       TargetGroupArn=Ref(web_target_group))])\n",
    "\n",
    "resources.add(web_elb)\n",
    "resources.add(web_target_group)\n",
    "resources.add(elb_listener)"
   ]
  },
  {
   "cell_type": "markdown",
   "metadata": {},
   "source": [
    "# Outputs"
   ]
  },
  {
   "cell_type": "markdown",
   "metadata": {},
   "source": [
    "# Build\n",
    "---"
   ]
  },
  {
   "cell_type": "code",
   "execution_count": null,
   "metadata": {
    "collapsed": false
   },
   "outputs": [],
   "source": [
    "file_name = 'auto.json'\n",
    "\n",
    "def build(filename):\n",
    "    fname = 'outputs/' + filename\n",
    "    for r in resources:\n",
    "        t.add_resource(r)\n",
    "    \n",
    "    with open(fname, 'w') as fd:\n",
    "        fd.write(t.to_json())\n",
    "    \n",
    "    !aws cloudformation validate-template --template-body file://{fname} > /dev/null && echo \"build ok\"\n",
    "\n",
    "build(file_name)"
   ]
  }
 ],
 "metadata": {
  "kernelspec": {
   "display_name": "Python 3",
   "language": "python",
   "name": "python3"
  },
  "language_info": {
   "codemirror_mode": {
    "name": "ipython",
    "version": 3
   },
   "file_extension": ".py",
   "mimetype": "text/x-python",
   "name": "python",
   "nbconvert_exporter": "python",
   "pygments_lexer": "ipython3",
   "version": "3.5.0"
  }
 },
 "nbformat": 4,
 "nbformat_minor": 1
}
